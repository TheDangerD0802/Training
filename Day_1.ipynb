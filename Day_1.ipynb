{
  "nbformat": 4,
  "nbformat_minor": 0,
  "metadata": {
    "colab": {
      "name": "Day_1.ipynb",
      "provenance": [],
      "authorship_tag": "ABX9TyO1GKx8CWArcyn7vSbG13nW",
      "include_colab_link": true
    },
    "kernelspec": {
      "name": "python3",
      "display_name": "Python 3"
    }
  },
  "cells": [
    {
      "cell_type": "markdown",
      "metadata": {
        "id": "view-in-github",
        "colab_type": "text"
      },
      "source": [
        "<a href=\"https://colab.research.google.com/github/TheDangerD0802/Traning/blob/master/Day_1.ipynb\" target=\"_parent\"><img src=\"https://colab.research.google.com/assets/colab-badge.svg\" alt=\"Open In Colab\"/></a>"
      ]
    },
    {
      "cell_type": "code",
      "metadata": {
        "id": "aVa108n4EIb2",
        "colab_type": "code",
        "colab": {}
      },
      "source": [
        "#Ques 1 \n",
        "#list of the first 15 even numbers that are not divisible by 6"
      ],
      "execution_count": 0,
      "outputs": []
    },
    {
      "cell_type": "code",
      "metadata": {
        "id": "fgHM86rcEqH-",
        "colab_type": "code",
        "outputId": "e4557966-a5a6-404b-94b2-85711349cadb",
        "colab": {
          "base_uri": "https://localhost:8080/",
          "height": 34
        }
      },
      "source": [
        "l = []\n",
        "x = 0\n",
        "count = 0\n",
        "while True:\n",
        "  if x % 6 != 0 and x % 2 == 0:\n",
        "    count = count + 1\n",
        "    l.append(x)\n",
        "  if count == 15:\n",
        "    break\n",
        "  x = x + 1\n",
        "\n",
        "print(l)"
      ],
      "execution_count": 0,
      "outputs": [
        {
          "output_type": "stream",
          "text": [
            "[2, 4, 8, 10, 14, 16, 20, 22, 26, 28, 32, 34, 38, 40, 44]\n"
          ],
          "name": "stdout"
        }
      ]
    },
    {
      "cell_type": "code",
      "metadata": {
        "id": "ujV5xtekHQgj",
        "colab_type": "code",
        "colab": {}
      },
      "source": [
        "#Ques 2 Write a function to Check whether given two string is anagram or not"
      ],
      "execution_count": 0,
      "outputs": []
    },
    {
      "cell_type": "code",
      "metadata": {
        "id": "s9R6C47ZHhVe",
        "colab_type": "code",
        "outputId": "d90341a7-14b4-44ac-9b15-3a8ff4e8cf9c",
        "colab": {
          "base_uri": "https://localhost:8080/",
          "height": 67
        }
      },
      "source": [
        "def anagram(str1, str2):\n",
        "  if(sorted(str1) == sorted(str2)):\n",
        "    print(\"Strings are anagrams\")\n",
        "  else:\n",
        "    print(\"Strings are not anagrams\")\n",
        "\n",
        "str1 = input(\"Enter first string : \")\n",
        "str2 = input(\"Enter second string : \")\n",
        "\n",
        "anagram(str1, str2)"
      ],
      "execution_count": 0,
      "outputs": [
        {
          "output_type": "stream",
          "text": [
            "Enter first string : ISHIKA\n",
            "Enter second string : AMAN\n",
            "Strings are not anagrams\n"
          ],
          "name": "stdout"
        }
      ]
    },
    {
      "cell_type": "code",
      "metadata": {
        "id": "kc6KqmL9JIwI",
        "colab_type": "code",
        "colab": {}
      },
      "source": [
        "#Ques 3 Define a class which has at least two methods: getString: \n",
        "#to get a string from console input printString: to print the string in upper case. \n",
        "#Also please include simple test function to test the class methods."
      ],
      "execution_count": 0,
      "outputs": []
    },
    {
      "cell_type": "code",
      "metadata": {
        "id": "Bpdn6GIgJDPg",
        "colab_type": "code",
        "outputId": "cd836cbf-7a73-4250-c14c-3e2e9a1d4fe1",
        "colab": {
          "base_uri": "https://localhost:8080/",
          "height": 50
        }
      },
      "source": [
        "class myclass():\n",
        "    def get_String(self):\n",
        "        self.str1 = input()\n",
        "\n",
        "    def print_String(self):\n",
        "        print(self.str1.upper())\n",
        "\n",
        "str1 = myclass()\n",
        "str1.get_String()\n",
        "str1.print_String()\n"
      ],
      "execution_count": 0,
      "outputs": [
        {
          "output_type": "stream",
          "text": [
            "Ishika\n",
            "ISHIKA\n"
          ],
          "name": "stdout"
        }
      ]
    }
  ]
}