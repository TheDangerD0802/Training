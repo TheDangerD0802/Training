{
  "nbformat": 4,
  "nbformat_minor": 0,
  "metadata": {
    "colab": {
      "name": "Merge_data_frame.ipynb",
      "provenance": [],
      "private_outputs": true,
      "authorship_tag": "ABX9TyOrgib3RXQ+MRFEaw7a/ABI",
      "include_colab_link": true
    },
    "kernelspec": {
      "name": "python3",
      "display_name": "Python 3"
    }
  },
  "cells": [
    {
      "cell_type": "markdown",
      "metadata": {
        "id": "view-in-github",
        "colab_type": "text"
      },
      "source": [
        "<a href=\"https://colab.research.google.com/github/TheDangerD0802/Training/blob/master/Merge_data_frame.ipynb\" target=\"_parent\"><img src=\"https://colab.research.google.com/assets/colab-badge.svg\" alt=\"Open In Colab\"/></a>"
      ]
    },
    {
      "cell_type": "code",
      "metadata": {
        "id": "6GOWATSf_M81",
        "colab_type": "code",
        "colab": {}
      },
      "source": [
        "import numpy as np\n",
        "import pandas as pd"
      ],
      "execution_count": 0,
      "outputs": []
    },
    {
      "cell_type": "code",
      "metadata": {
        "id": "8J3Fwpno_PZI",
        "colab_type": "code",
        "colab": {}
      },
      "source": [
        "df1 = pd.DataFrame({'lkey': ['faa', 'baa', 'bzz', 'faa'],\n",
        "                    'value': [2, 3, 5, 7]})\n",
        "df2 = pd.DataFrame({'rkey': ['faa', 'baa', 'bzz', 'faa'],\n",
        "                    'value': [7, 8, 9, 10]})"
      ],
      "execution_count": 0,
      "outputs": []
    },
    {
      "cell_type": "code",
      "metadata": {
        "id": "0fiSmBdx_WMM",
        "colab_type": "code",
        "colab": {}
      },
      "source": [
        "df1.merge(df2, left_on='lkey', right_on='rkey')"
      ],
      "execution_count": 0,
      "outputs": []
    },
    {
      "cell_type": "code",
      "metadata": {
        "id": "FFVH0AZG_a57",
        "colab_type": "code",
        "colab": {}
      },
      "source": [
        "df1.merge(df2, left_on='lkey', right_on='rkey',\n",
        "          suffixes=('_left', '_right'))"
      ],
      "execution_count": 0,
      "outputs": []
    }
  ]
}