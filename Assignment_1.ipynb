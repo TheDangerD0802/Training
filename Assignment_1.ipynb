{
  "nbformat": 4,
  "nbformat_minor": 0,
  "metadata": {
    "colab": {
      "name": "Assignment_1.ipynb",
      "provenance": [],
      "private_outputs": true,
      "collapsed_sections": [],
      "authorship_tag": "ABX9TyOSUduhZiunULCHoAqTTKtW",
      "include_colab_link": true
    },
    "kernelspec": {
      "name": "python3",
      "display_name": "Python 3"
    }
  },
  "cells": [
    {
      "cell_type": "markdown",
      "metadata": {
        "id": "view-in-github",
        "colab_type": "text"
      },
      "source": [
        "<a href=\"https://colab.research.google.com/github/TheDangerD0802/Traning/blob/master/Assignment_1.ipynb\" target=\"_parent\"><img src=\"https://colab.research.google.com/assets/colab-badge.svg\" alt=\"Open In Colab\"/></a>"
      ]
    },
    {
      "cell_type": "markdown",
      "metadata": {
        "id": "eF8ifFua3oMV",
        "colab_type": "text"
      },
      "source": [
        "\n",
        "Q1"
      ]
    },
    {
      "cell_type": "code",
      "metadata": {
        "id": "UXX7X29E3rO-",
        "colab_type": "code",
        "colab": {}
      },
      "source": [
        "def timeit(func):\n",
        "    pass\n",
        "\n",
        "@timeit\n",
        "def myfun(x=7,y=8):\n",
        "    time.delay()\n",
        "    pass"
      ],
      "execution_count": 0,
      "outputs": []
    }
  ]
}